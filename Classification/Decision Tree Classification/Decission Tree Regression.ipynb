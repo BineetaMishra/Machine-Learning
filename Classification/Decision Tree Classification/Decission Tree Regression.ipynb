{
 "cells": [
  {
   "cell_type": "raw",
   "metadata": {},
   "source": [
    "Decission Tree Regression Steps:\n",
    "\n",
    "1. Importing the library\n",
    "2. Importing the dataset\n",
    "3. Training the Decission Tree regression model on the whole dataset\n",
    "4. Predicting a new reult\n",
    "5. Visualizing the Decission Tree Regression Results(higher resolution)"
   ]
  },
  {
   "cell_type": "code",
   "execution_count": 1,
   "metadata": {},
   "outputs": [],
   "source": [
    "import numpy as np\n",
    "import matplotlib.pyplot as plt\n",
    "import pandas as pd"
   ]
  },
  {
   "cell_type": "code",
   "execution_count": 2,
   "metadata": {},
   "outputs": [],
   "source": [
    "dataset= pd.read_csv('C:\\\\Users\\\\ebineet\\\\Documents\\\\Machine Learning\\\\Machine+Learning+A-Z+(Codes+and+Datasets)\\\\Machine Learning A-Z (Codes and Datasets)\\\\Part 2 - Regression\\\\Section 8 - Decision Tree Regression\\\\Python\\\\Position_Salaries.csv')\n",
    "x = dataset.iloc[:, 1:-1].values\n",
    "y = dataset.iloc[:, -1].values\n"
   ]
  },
  {
   "cell_type": "raw",
   "metadata": {},
   "source": [
    "Check if you need to apply some of the tools of the data preprocessiong model like\n",
    "1. taking care of missing data\n",
    "2. encoding the categorical data\n",
    "if the order matters apply label encoder \n",
    "Do not have to apply feature scalling for decision tree model and Random Forest Progression model\n",
    "because the decission is resulting from successive spilts of the data through the diff nodes of your tree.\n"
   ]
  },
  {
   "cell_type": "code",
   "execution_count": 3,
   "metadata": {},
   "outputs": [
    {
     "data": {
      "text/plain": [
       "DecisionTreeRegressor(ccp_alpha=0.0, criterion='mse', max_depth=None,\n",
       "                      max_features=None, max_leaf_nodes=None,\n",
       "                      min_impurity_decrease=0.0, min_impurity_split=None,\n",
       "                      min_samples_leaf=1, min_samples_split=2,\n",
       "                      min_weight_fraction_leaf=0.0, presort='deprecated',\n",
       "                      random_state=0, splitter='best')"
      ]
     },
     "execution_count": 3,
     "metadata": {},
     "output_type": "execute_result"
    }
   ],
   "source": [
    "from sklearn.tree import DecisionTreeRegressor\n",
    "regressor = DecisionTreeRegressor(random_state =0)  #instance or object of the class (DecisionTreeRegressor)\n",
    "regressor.fit(x, y)"
   ]
  },
  {
   "cell_type": "code",
   "execution_count": 4,
   "metadata": {},
   "outputs": [
    {
     "data": {
      "text/plain": [
       "array([150000.])"
      ]
     },
     "execution_count": 4,
     "metadata": {},
     "output_type": "execute_result"
    }
   ],
   "source": [
    "regressor.predict([[6.5]]) #the value 6.5 is put inside a 2D array by putting a \"[[]]\"\n",
    "\n",
    "#No need to use the transform method because transformation was not done.\n",
    "#this model is nt best to use of single feature dataset set it is more adapted for higher dimensional dataset.,i.e.many features"
   ]
  },
  {
   "cell_type": "code",
   "execution_count": 5,
   "metadata": {},
   "outputs": [
    {
     "data": {
      "image/png": "[encoded data removed]",
      "text/plain": [
       "<Figure size 432x288 with 1 Axes>"
      ]
     },
     "metadata": {
      "needs_background": "light"
     },
     "output_type": "display_data"
    }
   ],
   "source": [
    "x_grid = np.arange(min(x), max(x), 0.1)\n",
    "x_grid = x_grid.reshape(len(x_grid), 1)\n",
    "plt.scatter(x, y, color='red')\n",
    "plt.plot(x_grid,regressor.predict(x_grid), color='blue')\n",
    "plt.title('TRUTH OR BLUFF (Decision Tree Regression)')\n",
    "plt.xlabel('Position Level')\n",
    "plt.ylabel('Salary')\n",
    "plt.show()"
   ]
  },
  {
   "cell_type": "raw",
   "metadata": {},
   "source": [
    "the DTR model is not best adapted to 2D data model.\n",
    "what DTR did was to take the real result (real salary) for each position level and then for all the position level of (-0.5 to 0.5) it predicted the same salary as position level in the middle. (middle level value was taken into consideration)\n",
    "They work by splitting the data thru succesive nodes and at end we get diff ranges of feature where prediction level is same.\n",
    "so we have this stair looking like curve upto last"
   ]
  },
  {
   "cell_type": "raw",
   "metadata": {},
   "source": [
    "TEMPLATE to adapt to any dataset\n",
    "\n",
    "THIS IS SAME\n",
    "import numpy as np\n",
    "import matplotlib.pyplot as plt\n",
    "import pandas as pd\n",
    "\n",
    "CHANGE THE NAME OD DATASET and the COLumn values\n",
    "dataset= pd.read_csv('')\n",
    "x = dataset.iloc[:, 1:-1].values\n",
    "y = dataset.iloc[:, -1].values\n",
    "\n",
    "\n",
    "Check for missing and categorival values to apply data preprocesssing toolkit, do not apply feature scaling\n",
    "\n",
    "DO NOT CHANGE ANYTHING UNLESS YOU HAVE SPLIT THE DATA INTO TRAINING SET AND TEST SET.\n",
    "THEN CHANGE x -> x_train, y -> y_train\n",
    "\n",
    "from sklearn.tree import DecisionTreeRegressor\n",
    "regressor = DecisionTreeRegressor(random_state =0)  #instance or object of the class (DecisionTreeRegressor)\n",
    "regressor.fit(x, y)\n",
    "\n",
    "IF YOU HAVE SEVERAL FEATURES THEN PUT: regressor.predict([[feature1,feature2,feature3,....,featuren]]) regressor.predict([[6.5,30,5]])\n",
    "\n",
    "regressor.predict([[6.5]]) #the value 6.5 is put inside a 2D array by putting a \"[[]]\"\n",
    "\n",
    "IF YOU HAVE A DATASET with multiple features then this is not relevant\n",
    "This is only used to visualise the regression result in 2D and therefore if you have several feature you will have dimension\n",
    "higher than 2 so you will not be able to plot anything here. SO DELETE THIS CELL \n",
    "\n",
    "x_grid = np.arange(min(x), max(x), 0.1)\n",
    "x_grid = x_grid.reshape(len(x_grid), 1)\n",
    "plt.scatter(x, y, color='red')\n",
    "plt.plot(x_grid,regressor.predict(x_grid), color='blue')\n",
    "plt.title('TRUTH OR BLUFF (Decision Tree Regression)')\n",
    "plt.xlabel('Position Level')\n",
    "plt.ylabel('Salary')\n",
    "plt.show()\n",
    "\n"
   ]
  }
 ],
 "metadata": {
  "kernelspec": {
   "display_name": "Python 3",
   "language": "python",
   "name": "python3"
  },
  "language_info": {
   "codemirror_mode": {
    "name": "ipython",
    "version": 3
   },
   "file_extension": ".py",
   "mimetype": "text/x-python",
   "name": "python",
   "nbconvert_exporter": "python",
   "pygments_lexer": "ipython3",
   "version": "3.7.6"
  }
 },
 "nbformat": 4,
 "nbformat_minor": 4
}
