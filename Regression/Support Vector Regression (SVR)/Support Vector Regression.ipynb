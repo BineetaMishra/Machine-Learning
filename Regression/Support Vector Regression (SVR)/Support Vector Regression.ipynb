{
 "cells": [
  {
   "cell_type": "raw",
   "metadata": {},
   "source": [
    "Support Vector Regression\n",
    "\n",
    "1. Importing the library.\n",
    "2. Importing the dataset.\n",
    "3. Feature Scaling. \n",
    "4. Training the SVR model on the whole dataset.\n",
    "5. Predicting the new result.\n",
    "6. Visualing the SVR result.\n",
    "7. Visualing the SVR result (for higher resolution and smoother curve.)"
   ]
  },
  {
   "cell_type": "raw",
   "metadata": {},
   "source": [
    "Why do we apply FEATURE SCALING in SVR MODEL?\n",
    "ANS:  In SVR model there is no explicit equation of the dependent variable with respect to the features and \n",
    "     there is no coefficients multiplying each of the feature thus not compensating with lower value of features taking higher      values. The SVR model has an implicit eqn of dependent variable with respect to the features , so we do not have such coef      we will definitely apply feature scaling for such models.\n",
    "\n",
    "We dot apply feature scaling for linear regression model where we have those coeff which can compensate with the highe value of the feature. So these include simple, multiple and polynomial regression."
   ]
  },
  {
   "cell_type": "code",
   "execution_count": 1,
   "metadata": {},
   "outputs": [],
   "source": [
    "#Importing the library.\n",
    "\n",
    "import numpy as np\n",
    "import matplotlib.pyplot as plt\n",
    "import pandas as pd"
   ]
  },
  {
   "cell_type": "code",
   "execution_count": 35,
   "metadata": {},
   "outputs": [],
   "source": [
    "#Importing the dataset.\n",
    "\n",
    "dataset= pd.read_csv('C:\\\\Users\\\\ebineet\\\\Documents\\\\Machine Learning\\\\Machine+Learning+A-Z+(Codes+and+Datasets)\\\\Machine Learning A-Z (Codes and Datasets)\\\\Part 2 - Regression\\\\Section 7 - Support Vector Regression (SVR)\\\\Python\\\\Position_Salaries.csv')\n",
    "x = dataset.iloc[:, 1:-1].values\n",
    "y = dataset.iloc[:, -1].values\n",
    "##y = dataset.iloc[:, -1].values.reshape(-1, 1) ###\n"
   ]
  },
  {
   "cell_type": "code",
   "execution_count": 56,
   "metadata": {},
   "outputs": [
    {
     "name": "stdout",
     "output_type": "stream",
     "text": [
      "[[ 1]\n",
      " [ 2]\n",
      " [ 3]\n",
      " [ 4]\n",
      " [ 5]\n",
      " [ 6]\n",
      " [ 7]\n",
      " [ 8]\n",
      " [ 9]\n",
      " [10]]\n"
     ]
    }
   ],
   "source": [
    "print (x)"
   ]
  },
  {
   "cell_type": "code",
   "execution_count": 38,
   "metadata": {},
   "outputs": [
    {
     "name": "stdout",
     "output_type": "stream",
     "text": [
      "[  45000   50000   60000   80000  110000  150000  200000  300000  500000\n",
      " 1000000]\n"
     ]
    }
   ],
   "source": [
    "#print(y)\n",
    "\n",
    "#transform this to a 2D array because in feature scaling it will expect a 2D array. thus transforming the column y\n",
    "\n",
    "yt = y.reshape(len(y),1)\n",
    "print(yt)"
   ]
  },
  {
   "cell_type": "code",
   "execution_count": 47,
   "metadata": {},
   "outputs": [
    {
     "data": {
      "text/plain": [
       "array([10])"
      ]
     },
     "execution_count": 47,
     "metadata": {},
     "output_type": "execute_result"
    }
   ],
   "source": [
    "#len(y)\n",
    "np.array(y.shape)"
   ]
  },
  {
   "cell_type": "code",
   "execution_count": 40,
   "metadata": {},
   "outputs": [
    {
     "name": "stdout",
     "output_type": "stream",
     "text": [
      "[[  45000]\n",
      " [  50000]\n",
      " [  60000]\n",
      " [  80000]\n",
      " [ 110000]\n",
      " [ 150000]\n",
      " [ 200000]\n",
      " [ 300000]\n",
      " [ 500000]\n",
      " [1000000]]\n"
     ]
    }
   ],
   "source": [
    "yt = y.reshape(len(y),1)\n",
    "print(yt)"
   ]
  },
  {
   "cell_type": "code",
   "execution_count": 48,
   "metadata": {},
   "outputs": [
    {
     "data": {
      "text/plain": [
       "array([10,  1])"
      ]
     },
     "execution_count": 48,
     "metadata": {},
     "output_type": "execute_result"
    }
   ],
   "source": [
    "#len(yt)\n",
    "\n",
    "#type(y)\n",
    "\n",
    "#type(yt)\n",
    "\n",
    "np.array(yt.shape)"
   ]
  },
  {
   "cell_type": "code",
   "execution_count": 32,
   "metadata": {},
   "outputs": [],
   "source": [
    "# Feature Scaling.\n",
    "# 2 standardscaler should be created one for x and other for dependent variable y. Becasue the mean and standard deviation \n",
    "# will be set for one so we will create a new one for the other.\n",
    "\n",
    "from sklearn.preprocessing import StandardScaler\n",
    "sc_x = StandardScaler()\n",
    "x = sc_x.fit_transform(x)\n",
    "sc_yt = StandardScaler()\n",
    "yt = sc_yt.fit_transform(yt)"
   ]
  },
  {
   "cell_type": "code",
   "execution_count": 25,
   "metadata": {},
   "outputs": [
    {
     "name": "stdout",
     "output_type": "stream",
     "text": [
      "[[-1.5666989 ]\n",
      " [-1.21854359]\n",
      " [-0.87038828]\n",
      " [-0.52223297]\n",
      " [-0.17407766]\n",
      " [ 0.17407766]\n",
      " [ 0.52223297]\n",
      " [ 0.87038828]\n",
      " [ 1.21854359]\n",
      " [ 1.5666989 ]]\n"
     ]
    }
   ],
   "source": [
    "print(x)"
   ]
  },
  {
   "cell_type": "code",
   "execution_count": 33,
   "metadata": {},
   "outputs": [
    {
     "name": "stdout",
     "output_type": "stream",
     "text": [
      "[[-0.72004253]\n",
      " [-0.70243757]\n",
      " [-0.66722767]\n",
      " [-0.59680786]\n",
      " [-0.49117815]\n",
      " [-0.35033854]\n",
      " [-0.17428902]\n",
      " [ 0.17781001]\n",
      " [ 0.88200808]\n",
      " [ 2.64250325]]\n"
     ]
    }
   ],
   "source": [
    "print(yt)"
   ]
  },
  {
   "cell_type": "code",
   "execution_count": 36,
   "metadata": {},
   "outputs": [
    {
     "data": {
      "text/plain": [
       "SVR(C=1.0, cache_size=200, coef0=0.0, degree=3, epsilon=0.1, gamma='scale',\n",
       "    kernel='rbf', max_iter=-1, shrinking=True, tol=0.001, verbose=False)"
      ]
     },
     "execution_count": 36,
     "metadata": {},
     "output_type": "execute_result"
    }
   ],
   "source": [
    "# Training the SVR model on the whole dataset\n",
    "# ignore the warning\n",
    "#\n",
    "from sklearn.svm import SVR\n",
    "regressor = SVR(kernel ='rbf') #instance or object of the class\n",
    "regressor.fit(x,y)"
   ]
  },
  {
   "cell_type": "code",
   "execution_count": 61,
   "metadata": {},
   "outputs": [
    {
     "data": {
      "text/plain": [
       "array([130001.82883924])"
      ]
     },
     "execution_count": 61,
     "metadata": {},
     "output_type": "execute_result"
    }
   ],
   "source": [
    "# Predicting the new result.\n",
    "\n",
    "## sc_y.inverse_transform(regressor.predict(sc_x.transform[[6.5]]))\n",
    "\n",
    "regressor.predict([[6.5]])"
   ]
  },
  {
   "cell_type": "code",
   "execution_count": 65,
   "metadata": {},
   "outputs": [
    {
     "data": {
      "image/png": "[encoded data removed]",
      "text/plain": [
       "<Figure size 432x288 with 1 Axes>"
      ]
     },
     "metadata": {
      "needs_background": "light"
     },
     "output_type": "display_data"
    }
   ],
   "source": [
    "##Visualing the SVR result.\n",
    "##Visualing the SVR result (for higher resolution and smoother curve.)\n",
    "\n",
    "\n",
    "plt.scatter(x, y, color='red')\n",
    "plt.plot(x,regressor.predict(x), color='blue')\n",
    "plt.title('Support Vector Regression')\n",
    "plt.xlabel('Position Level')\n",
    "plt.ylabel('Salary')\n",
    "plt.show()"
   ]
  }
 ],
 "metadata": {
  "kernelspec": {
   "display_name": "Python 3",
   "language": "python",
   "name": "python3"
  },
  "language_info": {
   "codemirror_mode": {
    "name": "ipython",
    "version": 3
   },
   "file_extension": ".py",
   "mimetype": "text/x-python",
   "name": "python",
   "nbconvert_exporter": "python",
   "pygments_lexer": "ipython3",
   "version": "3.7.6"
  }
 },
 "nbformat": 4,
 "nbformat_minor": 4
}
